{
  "nbformat": 4,
  "nbformat_minor": 0,
  "metadata": {
    "accelerator": "GPU",
    "colab": {
      "name": "cat_and_dog_classifier.ipynb",
      "provenance": [],
      "include_colab_link": true
    },
    "kernelspec": {
      "display_name": "Python 3",
      "language": "python",
      "name": "python3"
    },
    "language_info": {
      "codemirror_mode": {
        "name": "ipython",
        "version": 3
      },
      "file_extension": ".py",
      "mimetype": "text/x-python",
      "name": "python",
      "nbconvert_exporter": "python",
      "pygments_lexer": "ipython3",
      "version": "3.7.6"
    }
  },
  "cells": [
    {
      "cell_type": "markdown",
      "metadata": {
        "id": "view-in-github",
        "colab_type": "text"
      },
      "source": [
        "<a href=\"https://colab.research.google.com/github/kankeinai/machine-learning/blob/main/cat_and_dog_classifier.ipynb\" target=\"_parent\"><img src=\"https://colab.research.google.com/assets/colab-badge.svg\" alt=\"Open In Colab\"/></a>"
      ]
    },
    {
      "cell_type": "code",
      "metadata": {
        "id": "5bavyM7zh2YM"
      },
      "source": [
        "import os\n",
        "import cv2\n",
        "import numpy as np\n",
        "from tqdm import tqdm\n",
        "\n",
        "REBUILD_DATA = False"
      ],
      "execution_count": null,
      "outputs": []
    },
    {
      "cell_type": "code",
      "metadata": {
        "colab": {
          "background_save": true,
          "base_uri": "https://localhost:8080/"
        },
        "id": "YXyFbM7xFxyA",
        "outputId": "d222cde6-6101-4902-ae5f-086387c3dd06"
      },
      "source": [
        "from google.colab import drive\n",
        "drive.mount('/content/drive')"
      ],
      "execution_count": null,
      "outputs": [
        {
          "output_type": "stream",
          "text": [
            "Drive already mounted at /content/drive; to attempt to forcibly remount, call drive.mount(\"/content/drive\", force_remount=True).\n"
          ],
          "name": "stdout"
        }
      ]
    },
    {
      "cell_type": "code",
      "metadata": {
        "colab": {
          "background_save": true
        },
        "id": "dq9CpwdlF1Bg"
      },
      "source": [
        "os.chdir('/content/drive/MyDrive/Colab Notebooks/cats_and_dogs')"
      ],
      "execution_count": null,
      "outputs": []
    },
    {
      "cell_type": "code",
      "metadata": {
        "colab": {
          "background_save": true
        },
        "id": "GH_blQRMicNM"
      },
      "source": [
        "class DogsVsCats():\n",
        "    IMG_SIZE = 50\n",
        "    CATS = \"PetImages/Cat\"\n",
        "    DOGS = \"PetImages/Dog\"\n",
        "    LABELS = {CATS: 0, DOGS: 1} #хранит названия директорий\n",
        "    training_data= [] #сюда будем добавлять все картинки\n",
        "    catcount = 0\n",
        "    dogcount = 0 #считаем для того чтобы \n",
        "    #проверить сбаласирован ли датасет\n",
        "    \n",
        "    def make_training_data(self):\n",
        "        for label in self.LABELS: #проходимся по двум директориям\n",
        "            print(label)\n",
        "            for f in tqdm(os.listdir(label)): #проходимся по всем файлам директории\n",
        "                try:\n",
        "                #tqdm добавляет шкалу загрузки\n",
        "                    path = os.path.join(label, f)\n",
        "                    img = cv2.imread(path, cv2.IMREAD_GRAYSCALE)\n",
        "                    img = cv2.resize(img,(self.IMG_SIZE,self.IMG_SIZE))\n",
        "\n",
        "                    self.training_data.append([np.array(img), np.eye(2)[self.LABELS[label]]])\n",
        "\n",
        "                    if label == self.CATS:\n",
        "                        self.catcount+=1\n",
        "                    elif label== self.DOGS:\n",
        "                        self.dogcount+=1\n",
        "                except Exception as e:\n",
        "                    print(e)\n",
        "        np.random.shuffle(self.training_data)\n",
        "        np.save(\"training_data.npy\", self.training_data)\n",
        "        print(f\"Cats: {self.catcount}, dogs: {self.dogcount}\")"
      ],
      "execution_count": null,
      "outputs": []
    },
    {
      "cell_type": "code",
      "metadata": {
        "colab": {
          "background_save": true
        },
        "id": "sHkTC3XFD6DN"
      },
      "source": [
        "if REBUILD_DATA:\n",
        "    dogsVcats=DogsVsCats()\n",
        "    dogsVcats.make_training_data()"
      ],
      "execution_count": null,
      "outputs": []
    },
    {
      "cell_type": "code",
      "metadata": {
        "colab": {
          "background_save": true
        },
        "id": "biHbX124D6DN"
      },
      "source": [
        "training_data = np.load(\"training_data.npy\", allow_pickle=True)"
      ],
      "execution_count": null,
      "outputs": []
    },
    {
      "cell_type": "code",
      "metadata": {
        "colab": {
          "background_save": true,
          "base_uri": "https://localhost:8080/"
        },
        "id": "qW7fykE4D6DN",
        "outputId": "eab84177-41d1-4bad-ea65-5076697faba1"
      },
      "source": [
        "print(len(training_data))"
      ],
      "execution_count": null,
      "outputs": [
        {
          "output_type": "stream",
          "text": [
            "24946\n"
          ],
          "name": "stdout"
        }
      ]
    },
    {
      "cell_type": "code",
      "metadata": {
        "colab": {
          "background_save": true,
          "base_uri": "https://localhost:8080/"
        },
        "id": "azskbvaxD6DO",
        "outputId": "deec5b53-3255-4629-a770-5930bb1df1c7"
      },
      "source": [
        "training_data[0] #it is a cat..."
      ],
      "execution_count": null,
      "outputs": [
        {
          "output_type": "execute_result",
          "data": {
            "text/plain": [
              "array([array([[170, 174, 171, ...,  85,  81,  81],\n",
              "       [170, 174, 175, ...,  83,  84,  86],\n",
              "       [168, 174, 173, ...,  93,  90,  92],\n",
              "       ...,\n",
              "       [147, 141, 186, ..., 136, 232, 183],\n",
              "       [129, 134, 175, ..., 152, 203, 190],\n",
              "       [122, 116, 155, ..., 164, 154, 190]], dtype=uint8),\n",
              "       array([1., 0.])], dtype=object)"
            ]
          },
          "metadata": {
            "tags": []
          },
          "execution_count": 0
        }
      ]
    },
    {
      "cell_type": "code",
      "metadata": {
        "colab": {
          "background_save": true
        },
        "id": "SeZRlvBYD6DO"
      },
      "source": [
        "import matplotlib.pyplot as plt"
      ],
      "execution_count": null,
      "outputs": []
    },
    {
      "cell_type": "code",
      "metadata": {
        "colab": {
          "background_save": true,
          "base_uri": "https://localhost:8080/",
          "height": 267
        },
        "id": "v_2uRmGnD6DP",
        "outputId": "bdcef27e-ea6f-4805-9371-779de4e7cf8c"
      },
      "source": [
        "plt.imshow(training_data[0][0], cmap='gray')\n",
        "plt.show()"
      ],
      "execution_count": null,
      "outputs": [
        {
          "output_type": "display_data",
          "data": {
            "image/png": "[encoded data removed]",
            "text/plain": [
              "<Figure size 432x288 with 1 Axes>"
            ]
          },
          "metadata": {
            "tags": []
          }
        }
      ]
    },
    {
      "cell_type": "code",
      "metadata": {
        "colab": {
          "background_save": true
        },
        "id": "92qQd_LvD6DP"
      },
      "source": [
        "import torch\n",
        "import torch.nn as nn\n",
        "import torch.nn.functional as F"
      ],
      "execution_count": null,
      "outputs": []
    },
    {
      "cell_type": "code",
      "metadata": {
        "colab": {
          "background_save": true,
          "base_uri": "https://localhost:8080/"
        },
        "id": "ofVD08Fk84uG",
        "outputId": "ef301483-d76b-4280-c1e0-08f63c53408d"
      },
      "source": [
        "if torch.cuda.is_available():\n",
        "  device = torch.device(\"cuda:0\")\n",
        "else:\n",
        "  device = torch.device(\"cpu\")\n",
        "print(device)"
      ],
      "execution_count": null,
      "outputs": [
        {
          "output_type": "stream",
          "text": [
            "cuda:0\n"
          ],
          "name": "stdout"
        }
      ]
    },
    {
      "cell_type": "code",
      "metadata": {
        "colab": {
          "background_save": true
        },
        "id": "x1wFYTswD6DQ"
      },
      "source": [
        "class Net(nn.Module):\n",
        "    def __init__(self):\n",
        "        super().__init__()\n",
        "        self.conv1 = nn.Conv2d(1, 32, 5)\n",
        "        self.conv2 = nn.Conv2d(32, 64, 5)\n",
        "        self.conv3 = nn.Conv2d(64, 128, 5)\n",
        "        \n",
        "        x = torch.randn(50,50).view(-1,1,50,50) \n",
        "        #по сути создаем рандомный массив пикселей и чекаем его размер \n",
        "        #после того как он пройдет через все слои \n",
        "        \n",
        "        self._to_linear=None\n",
        "        self.convs(x)\n",
        "        \n",
        "        self.fc1 = nn.Linear(self._to_linear, 512) #чтобы узнать какой параметр инпут сюды\n",
        "        self.fc2 = nn.Linear(512, 2)\n",
        "        \n",
        "    def convs(self,x):\n",
        "            \n",
        "        x=F.max_pool2d(F.relu(self.conv1(x)),(2,2))\n",
        "        x=F.max_pool2d(F.relu(self.conv2(x)),(2,2))\n",
        "        x=F.max_pool2d(F.relu(self.conv3(x)),(2,2))\n",
        "            \n",
        "        print(x[0].shape)\n",
        "        \n",
        "        if self._to_linear is None:\n",
        "            self._to_linear = x[0].shape[0]*x[0].shape[1]*x[0].shape[2]\n",
        "        return x\n",
        "        \n",
        "    def forward(self,x):\n",
        "        x=self.convs(x)\n",
        "        x=x.view(-1, self._to_linear)\n",
        "        x=F.relu(self.fc1(x))\n",
        "        x=self.fc2(x)\n",
        "        return F.softmax(x, dim = 1)\n",
        "            \n",
        "        "
      ],
      "execution_count": null,
      "outputs": []
    },
    {
      "cell_type": "code",
      "metadata": {
        "colab": {
          "background_save": true
        },
        "id": "AXMr9EK9-DKs",
        "outputId": "37bde6e4-40d7-438c-f59f-8861e6f5260e"
      },
      "source": [
        "def train(net):\n",
        "  for epoch in range(EPOCHS):\n",
        "    for i in tqdm(range(0, len(train_X), BATCH_SIZE)):\n",
        "        \n",
        "        batch_X = train_X[i:i+BATCH_SIZE].view(-1,1,50,50)\n",
        "        batch_y = train_y[i:i+BATCH_SIZE]\n",
        "        \n",
        "        net.zero_grad()\n",
        "        outputs = net(batch_X)\n",
        "        loss = loss_function(outputs, batch_y)\n",
        "        loss.backward()\n",
        "        optimizer.step()\n",
        "    \n",
        "print(loss)\n",
        "        \n"
      ],
      "execution_count": null,
      "outputs": [
        {
          "output_type": "error",
          "ename": "NameError",
          "evalue": "ignored",
          "traceback": [
            "\u001b[0;31m---------------------------------------------------------------------------\u001b[0m",
            "\u001b[0;31mNameError\u001b[0m                                 Traceback (most recent call last)",
            "\u001b[0;32m<ipython-input-14-116d543c4f75>\u001b[0m in \u001b[0;36m<module>\u001b[0;34m()\u001b[0m\n\u001b[1;32m     12\u001b[0m         \u001b[0moptimizer\u001b[0m\u001b[0;34m.\u001b[0m\u001b[0mstep\u001b[0m\u001b[0;34m(\u001b[0m\u001b[0;34m)\u001b[0m\u001b[0;34m\u001b[0m\u001b[0;34m\u001b[0m\u001b[0m\n\u001b[1;32m     13\u001b[0m \u001b[0;34m\u001b[0m\u001b[0m\n\u001b[0;32m---> 14\u001b[0;31m \u001b[0mprint\u001b[0m\u001b[0;34m(\u001b[0m\u001b[0mloss\u001b[0m\u001b[0;34m)\u001b[0m\u001b[0;34m\u001b[0m\u001b[0;34m\u001b[0m\u001b[0m\n\u001b[0m\u001b[1;32m     15\u001b[0m \u001b[0;34m\u001b[0m\u001b[0m\n",
            "\u001b[0;31mNameError\u001b[0m: name 'loss' is not defined"
          ]
        }
      ]
    },
    {
      "cell_type": "code",
      "metadata": {
        "colab": {
          "background_save": true
        },
        "id": "9sORHd4g-Ho6"
      },
      "source": [
        "def test(net):\n",
        "  correct = 0\n",
        "  total = 0\n",
        "  with torch.no_grad():\n",
        "    for i in tqdm(range(len(test_X))):\n",
        "      real_class=torch.argmax(test_y[i])\n",
        "      net_out = net(test_X[i].view(-1,1,50,50))[0]\n",
        "      predicted_class = torch.argmax(net_out)\n",
        "      if predicted_class == real_class:\n",
        "        correct+=1\n",
        "      total+=1\n",
        "print(\"Acurracy: \", round(correct/total, 3))\n"
      ],
      "execution_count": null,
      "outputs": []
    },
    {
      "cell_type": "code",
      "metadata": {
        "colab": {
          "background_save": true
        },
        "id": "2eBO9hKdD6DQ"
      },
      "source": [
        "net = Net()"
      ],
      "execution_count": null,
      "outputs": []
    },
    {
      "cell_type": "code",
      "metadata": {
        "colab": {
          "background_save": true
        },
        "id": "oy1TObyO9hDi"
      },
      "source": [
        "net.to(device)"
      ],
      "execution_count": null,
      "outputs": []
    },
    {
      "cell_type": "code",
      "metadata": {
        "colab": {
          "background_save": true
        },
        "id": "lstYGeeqD6DQ"
      },
      "source": [
        "import torch.optim as optim\n",
        "\n",
        "optimizer = optim.Adam(net.parameters(), lr=0.001)\n",
        "loss_function = nn.MSELoss()\n",
        "X = torch.Tensor([i[0] for i in training_data]).view(-1, 50, 50)\n",
        "X = X/255.0\n",
        "y = torch.Tensor([i[1] for i in training_data])\n"
      ],
      "execution_count": null,
      "outputs": []
    },
    {
      "cell_type": "code",
      "metadata": {
        "colab": {
          "background_save": true
        },
        "id": "w9d-ZXTtD6DR"
      },
      "source": [
        "VAL_PCT = 0.1\n",
        "val_size = int(len(X)*VAL_PCT)\n",
        "val_size"
      ],
      "execution_count": null,
      "outputs": []
    },
    {
      "cell_type": "code",
      "metadata": {
        "colab": {
          "background_save": true
        },
        "id": "JtjhBy_uD6DR"
      },
      "source": [
        "train_X = X[:-val_size]\n",
        "train_y = y[:-val_size]\n",
        "\n",
        "test_X = X[-val_size:]\n",
        "test_y = y[-val_size:]\n",
        "\n",
        "len(train_X), len(test_X)"
      ],
      "execution_count": null,
      "outputs": []
    },
    {
      "cell_type": "code",
      "metadata": {
        "colab": {
          "background_save": true
        },
        "id": "6aStg2D6D6DS"
      },
      "source": [
        "BATCH_SIZE = 100\n",
        "EPOCHS = 20"
      ],
      "execution_count": null,
      "outputs": []
    },
    {
      "cell_type": "code",
      "metadata": {
        "colab": {
          "background_save": true
        },
        "id": "sQlTWUGSD6DS"
      },
      "source": [
        "train(net)\n",
        "        "
      ],
      "execution_count": null,
      "outputs": []
    },
    {
      "cell_type": "code",
      "metadata": {
        "colab": {
          "background_save": true
        },
        "id": "O6e113TqD6DT"
      },
      "source": [
        "te"
      ],
      "execution_count": null,
      "outputs": []
    },
    {
      "cell_type": "code",
      "metadata": {
        "colab": {
          "background_save": true
        },
        "id": "kJSTRUV7PEoZ"
      },
      "source": [
        "net.state_dict()"
      ],
      "execution_count": null,
      "outputs": []
    }
  ]
}
